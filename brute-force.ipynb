{
 "cells": [
  {
   "cell_type": "markdown",
   "metadata": {},
   "source": [
    "## polynom brute force"
   ]
  },
  {
   "cell_type": "code",
   "execution_count": 49,
   "metadata": {},
   "outputs": [],
   "source": [
    "def polynom(arr, x):\n",
    "    res = 0\n",
    "    for i in range (0,len(arr)):\n",
    "        exp = 1\n",
    "        for j in range(0,i):\n",
    "            exp *= x\n",
    "        res += arr[i]*exp  \n",
    "    return res"
   ]
  },
  {
   "cell_type": "code",
   "execution_count": 50,
   "metadata": {},
   "outputs": [
    {
     "data": {
      "text/plain": [
       "3711"
      ]
     },
     "execution_count": 50,
     "metadata": {},
     "output_type": "execute_result"
    }
   ],
   "source": [
    "polynom([1,2,3,4,5],5)"
   ]
  },
  {
   "cell_type": "markdown",
   "metadata": {},
   "source": [
    "## bilangan prima brute force"
   ]
  },
  {
   "cell_type": "code",
   "execution_count": 53,
   "metadata": {},
   "outputs": [],
   "source": [
    "def is_prima(x):\n",
    "    if x <= 1:\n",
    "        return False\n",
    "    for i in range(2,x-1):\n",
    "        if x%i == 0:\n",
    "            return False\n",
    "    return True"
   ]
  },
  {
   "cell_type": "code",
   "execution_count": 54,
   "metadata": {},
   "outputs": [
    {
     "data": {
      "text/plain": [
       "False"
      ]
     },
     "execution_count": 54,
     "metadata": {},
     "output_type": "execute_result"
    }
   ],
   "source": [
    "is_prima(56)"
   ]
  },
  {
   "cell_type": "markdown",
   "metadata": {},
   "source": [
    "## fpb brute force"
   ]
  },
  {
   "cell_type": "code",
   "execution_count": 32,
   "metadata": {},
   "outputs": [],
   "source": [
    "def fpb(x,y):\n",
    "    list_x = []\n",
    "    list_y = []\n",
    "    #loop for x\n",
    "    for i in range(1,x):\n",
    "        if x%i==0:\n",
    "            list_x.append(i)\n",
    "    #loop for y\n",
    "    for j in range(1,y):\n",
    "        if y%j==0:\n",
    "            list_y.append(j)\n",
    "    #groupinng for same number in list_x and list_y into temp_arr\n",
    "    temp_arr = []\n",
    "    for k in range(0,len(list_x)):\n",
    "        val = list_x[k]\n",
    "        for l in range(0,len(list_y)):\n",
    "            if  list_y[l] == val:\n",
    "                temp_arr.append(list_y[l])\n",
    "    #lookfor the greatest number in temp_arr\n",
    "    greatest = temp_arr[0]\n",
    "    for m in range(1,len(temp_arr)):\n",
    "        if temp_arr[m]>greatest:\n",
    "            greatest=temp_arr[m]\n",
    "    print('ini list x',list_x)\n",
    "    print('ini list y',list_y)\n",
    "    print('ini list temp_arr',temp_arr)\n",
    "    return greatest\n",
    "    "
   ]
  },
  {
   "cell_type": "code",
   "execution_count": 43,
   "metadata": {},
   "outputs": [
    {
     "name": "stdout",
     "output_type": "stream",
     "text": [
      "ini list x [1, 2, 4]\n",
      "ini list y [1, 2, 3, 4, 6]\n",
      "ini list temp_arr [1, 2, 4]\n"
     ]
    },
    {
     "data": {
      "text/plain": [
       "4"
      ]
     },
     "execution_count": 43,
     "metadata": {},
     "output_type": "execute_result"
    }
   ],
   "source": [
    "fpb(8,12)"
   ]
  },
  {
   "cell_type": "markdown",
   "metadata": {},
   "source": [
    "## fpb non brute force"
   ]
  },
  {
   "cell_type": "code",
   "execution_count": 55,
   "metadata": {},
   "outputs": [],
   "source": [
    "def fpb_non_bruteforce(x,y):\n",
    "    if y==0:\n",
    "        return x\n",
    "    else:\n",
    "        return fpb_non_bruteforce(y, x%y)"
   ]
  },
  {
   "cell_type": "code",
   "execution_count": 56,
   "metadata": {},
   "outputs": [
    {
     "data": {
      "text/plain": [
       "4"
      ]
     },
     "execution_count": 56,
     "metadata": {},
     "output_type": "execute_result"
    }
   ],
   "source": [
    "fpb_non_bruteforce(8,12)"
   ]
  },
  {
   "cell_type": "markdown",
   "metadata": {},
   "source": [
    "#### in pythonic way:"
   ]
  },
  {
   "cell_type": "code",
   "execution_count": 42,
   "metadata": {},
   "outputs": [],
   "source": [
    "fpb_non = lambda x,y : x if y == 0 else fpb_non(y, x%y)"
   ]
  },
  {
   "cell_type": "code",
   "execution_count": 40,
   "metadata": {
    "scrolled": true
   },
   "outputs": [
    {
     "name": "stdout",
     "output_type": "stream",
     "text": [
      "4\n"
     ]
    }
   ],
   "source": [
    "print(fpb_non(8,12))"
   ]
  }
 ],
 "metadata": {
  "kernelspec": {
   "display_name": "Python 3",
   "language": "python",
   "name": "python3"
  },
  "language_info": {
   "codemirror_mode": {
    "name": "ipython",
    "version": 3
   },
   "file_extension": ".py",
   "mimetype": "text/x-python",
   "name": "python",
   "nbconvert_exporter": "python",
   "pygments_lexer": "ipython3",
   "version": "3.6.8"
  }
 },
 "nbformat": 4,
 "nbformat_minor": 2
}
